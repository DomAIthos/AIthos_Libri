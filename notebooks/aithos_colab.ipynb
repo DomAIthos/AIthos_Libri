{
 "cells": [
  {
   "cell_type": "markdown",
   "metadata": {},
   "source": [
    "# AIthos - Generatore Creativo di Libri\n",
    "Benvenuto! Qui potrai generare e impaginare libri automaticamente con AIthos."
   ]
  },
  {
   "cell_type": "code",
   "execution_count": null,
   "metadata": {},
   "outputs": [],
   "source": [
    "# TODO: inserisci qui il codice di generazione con OpenAI"
   ]
  }
 ],
 "metadata": {
  "colab": {
   "name": "aithos_colab.ipynb",
   "provenance": []
  },
  "kernelspec": {
   "display_name": "Python 3",
   "language": "python",
   "name": "python3"
  },
  "language_info": {
   "name": "python"
  }
 },
 "nbformat": 4,
 "nbformat_minor": 0
}
